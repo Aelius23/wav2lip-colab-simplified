{
  "cells": [
    {
      "cell_type": "markdown",
      "source": [
        "RUN CELS UNTIL PROMPTED FOR IMAGE"
      ],
      "metadata": {
        "id": "Yuc9rBKXjtWp"
      }
    },
    {
      "source": [
        "# Install FFMPEG (for audio conversion)\n",
        "!apt-get update\n",
        "!apt-get install -y ffmpeg"
      ],
      "cell_type": "code",
      "metadata": {
        "id": "pmXSukPViFJo"
      },
      "execution_count": null,
      "outputs": []
    },
    {
      "source": [
        "# Clone the Wav2Lip repository\n",
        "import os\n",
        "\n",
        "if not os.path.exists('Wav2Lip'):\n",
        "    print(\"Cloning Wav2Lip repository...\")\n",
        "    !git clone https://github.com/Rudrabha/Wav2Lip.git\n",
        "else:\n",
        "    print(\"Wav2Lip repository already exists.\")"
      ],
      "cell_type": "code",
      "metadata": {
        "id": "t_jFC-JAiGOm"
      },
      "execution_count": null,
      "outputs": []
    },
    {
      "source": [
        "# Change directory to Wav2Lip\n",
        "%cd Wav2Lip"
      ],
      "cell_type": "code",
      "metadata": {
        "id": "LzgEiJGriGvK"
      },
      "execution_count": null,
      "outputs": []
    },
    {
      "source": [
        "#Install dependencies from requirements.txt\n",
        "!pip install -r requirements.txt --use-feature=2020-resolver"
      ],
      "cell_type": "code",
      "metadata": {
        "id": "9XeD3mZtiHYn"
      },
      "execution_count": null,
      "outputs": []
    },
    {
      "source": [
        "# Install/update specific libraries for compatibility\n",
        "!pip install librosa==0.7.0 numba==0.48.0 llvmlite==0.31.0"
      ],
      "cell_type": "code",
      "metadata": {
        "id": "o8VYugMbiH02"
      },
      "execution_count": null,
      "outputs": []
    },
    {
      "source": [
        "# Download the Wav2Lip checkpoint\n",
        "!wget https://github.com/Rudrabha/Wav2Lip/releases/download/v0.1/wav2lip.pth -O /content/Wav2Lip/checkpoints/wav2lip.pth"
      ],
      "cell_type": "code",
      "metadata": {
        "id": "0xdgKa8biITL"
      },
      "execution_count": null,
      "outputs": []
    },
    {
      "source": [
        "# Modify audio.py for librosa compatibility\n",
        "# Step 1: Read the contents of audio.py\n",
        "with open('audio.py', 'r') as file:\n",
        "    lines = file.readlines()\n",
        "\n",
        "# Step 2: Modify the specific line that calls librosa.filters.mel()\n",
        "for i, line in enumerate(lines):\n",
        "    if 'librosa.filters.mel' in line:\n",
        "        lines[i] = \"    return librosa.filters.mel(sr=hp.sample_rate, n_fft=hp.n_fft, n_mels=hp.num_mels, fmin=hp.fmin, fmax=hp.fmax)\\n\"\n",
        "\n",
        "# Step 3: Write the modified contents back to audio.py\n",
        "with open('audio.py', 'w') as file:\n",
        "    file.writelines(lines)\n",
        "\n",
        "print(\"Modified audio.py successfully.\")"
      ],
      "cell_type": "code",
      "metadata": {
        "id": "IyCR48OtiOvO"
      },
      "execution_count": null,
      "outputs": []
    },
    {
      "source": [
        "# Create a 'temp' directory\n",
        "import os\n",
        "if not os.path.exists('temp'):\n",
        "    os.makedirs('temp')"
      ],
      "cell_type": "code",
      "metadata": {
        "id": "tiJ4Vvh2iP-u"
      },
      "execution_count": null,
      "outputs": []
    },
    {
      "cell_type": "markdown",
      "source": [
        "UPLOAD YOUR FACE IMAGE HERE! vvvv"
      ],
      "metadata": {
        "id": "arVwosHbjSUK"
      }
    },
    {
      "source": [
        "# Upload your face image and audio file\n",
        "from google.colab import files\n",
        "uploaded = files.upload()"
      ],
      "cell_type": "code",
      "metadata": {
        "id": "5H5a1ma5iRV1"
      },
      "execution_count": null,
      "outputs": []
    },
    {
      "cell_type": "markdown",
      "source": [
        "CONVERT YOUR AUDIO TO WAV HERE vvvv"
      ],
      "metadata": {
        "id": "JYyDsgm6jaap"
      }
    },
    {
      "source": [
        "# Convert your audio file to WAV (if it's not already)\n",
        "!ffmpeg -i your_audio_file.mp3 temp/temp_audio.wav"
      ],
      "cell_type": "code",
      "metadata": {
        "id": "XJ12H3QTiSe4"
      },
      "execution_count": null,
      "outputs": []
    },
    {
      "source": [
        "# Run the Wav2Lip inference\n",
        "!python inference.py --checkpoint_path checkpoints/wav2lip.pth --face your_face_image.png --audio temp/temp_audio.wav --outfile output_video.mp4"
      ],
      "cell_type": "code",
      "metadata": {
        "id": "scMA7GJ-iS9x"
      },
      "execution_count": null,
      "outputs": []
    },
    {
      "source": [
        "#  Download the output video\n",
        "from google.colab import files\n",
        "files.download('output_video.mp4')"
      ],
      "cell_type": "code",
      "metadata": {
        "id": "y40d9z4jiTcc"
      },
      "execution_count": null,
      "outputs": []
    },
    {
      "cell_type": "markdown",
      "source": [],
      "metadata": {
        "id": "UGRi1Vc4iCXn"
      }
    }
  ],
  "metadata": {
    "colab": {
      "provenance": []
    },
    "kernelspec": {
      "display_name": "Python 3",
      "name": "python3"
    },
    "language_info": {
      "name": "python"
    }
  },
  "nbformat": 4,
  "nbformat_minor": 0
}